{
 "cells": [
  {
   "cell_type": "code",
   "execution_count": null,
   "id": "9a194d30",
   "metadata": {},
   "outputs": [],
   "source": [
    "##This is the extension of 4-ClientTest.py in notebook, but runninbg multiple tests using goldenset stored in the deepeval portal"
   ]
  },
  {
   "cell_type": "code",
   "execution_count": 1,
   "id": "5be243af",
   "metadata": {},
   "outputs": [
    {
     "data": {
      "text/plain": [
       "True"
      ]
     },
     "execution_count": 1,
     "metadata": {},
     "output_type": "execute_result"
    }
   ],
   "source": [
    "import os\n",
    "from dotenv import load_dotenv\n",
    "from deepeval.metrics import GEval\n",
    "from deepeval.test_case import LLMTestCase, LLMTestCaseParams\n",
    "from deepeval import evaluate\n",
    "from azure.ai.projects import AIProjectClient\n",
    "from azure.ai.agents.models import ListSortOrder\n",
    "from azure.identity import AzureCliCredential\n",
    "\n",
    "# Load environment variables\n",
    "load_dotenv()"
   ]
  },
  {
   "cell_type": "code",
   "execution_count": 2,
   "id": "1a737243",
   "metadata": {},
   "outputs": [],
   "source": [
    "# Initialize Azure AI Project Client\n",
    "def get_project_client():\n",
    "    endpoint = os.environ.get(\"AZURE_AI_PROJECT_ENDPOINT\")\n",
    "    if not endpoint:\n",
    "        raise ValueError(\"AZURE_AI_PROJECT_ENDPOINT not set in environment.\")\n",
    "    return AIProjectClient(endpoint=endpoint, credential=AzureCliCredential())\n",
    "\n",
    "# Get agent by ID\n",
    "def get_agent(client, agent_id):\n",
    "    agent = client.agents.get_agent(agent_id)\n",
    "    if not agent:\n",
    "        raise ValueError(f\"Agent with ID {agent_id} not found.\")\n",
    "    return agent\n",
    "\n",
    "# Run agent thread and get response\n",
    "def run_agent_thread(client, agent_id, user_message):\n",
    "    final_run = client.agents.create_thread_and_process_run(\n",
    "        agent_id=agent_id,\n",
    "        thread={\n",
    "            \"messages\": [\n",
    "                {\"role\": \"user\", \"content\": user_message}\n",
    "            ]\n",
    "        },\n",
    "    )\n",
    "    if final_run.status != \"completed\":\n",
    "        raise RuntimeError(\"Agent run did not complete successfully.\")\n",
    "    messages = client.agents.messages.list(thread_id=final_run.thread_id, order=ListSortOrder.ASCENDING)\n",
    "    for message in messages:\n",
    "        if message.run_id == final_run.id and message.text_messages:\n",
    "            return message.text_messages[-1].text.value\n",
    "    return \"\""
   ]
  },
  {
   "cell_type": "code",
   "execution_count": 3,
   "id": "10af8404",
   "metadata": {},
   "outputs": [],
   "source": [
    "client = get_project_client()\n",
    "agent_id = \"asst_s9vGyZLmHIj49kSz3Z05sti5\"\n",
    "#user_question = \"The dog chased the cat up the tree, who ran up the tree?\"\n",
    "agent = get_agent(client, agent_id)\n",
    "#response = run_agent_thread(client, agent.id, user_question)"
   ]
  },
  {
   "cell_type": "code",
   "execution_count": 4,
   "id": "63b3c4ff",
   "metadata": {},
   "outputs": [
    {
     "data": {
      "text/html": [
       "<pre style=\"white-space:pre;overflow-x:auto;line-height:normal;font-family:Menlo,'DejaVu Sans Mono',consolas,'Courier New',monospace\">/workspaces/AgentTesting/.venv/lib/python3.12/site-packages/rich/live.py:256: UserWarning: install \"ipywidgets\" for\n",
       "Jupyter support\n",
       "  warnings.warn('install \"ipywidgets\" for Jupyter support')\n",
       "</pre>\n"
      ],
      "text/plain": [
       "/workspaces/AgentTesting/.venv/lib/python3.12/site-packages/rich/live.py:256: UserWarning: install \"ipywidgets\" for\n",
       "Jupyter support\n",
       "  warnings.warn('install \"ipywidgets\" for Jupyter support')\n"
      ]
     },
     "metadata": {},
     "output_type": "display_data"
    },
    {
     "data": {
      "text/html": [
       "<pre style=\"white-space:pre;overflow-x:auto;line-height:normal;font-family:Menlo,'DejaVu Sans Mono',consolas,'Courier New',monospace\"></pre>\n"
      ],
      "text/plain": []
     },
     "metadata": {},
     "output_type": "display_data"
    }
   ],
   "source": [
    "from deepeval.dataset import EvaluationDataset\n",
    "dataset = EvaluationDataset()\n",
    "dataset.pull(alias=\"sample\")\n",
    "for golden in dataset.goldens:\n",
    "    test_case = LLMTestCase(\n",
    "        input=golden.input,\n",
    "        actual_output=run_agent_thread(client, agent.id, golden.input)\n",
    "    )\n",
    "    dataset.add_test_case(test_case)"
   ]
  },
  {
   "cell_type": "code",
   "execution_count": 5,
   "id": "a47a8e15",
   "metadata": {},
   "outputs": [
    {
     "data": {
      "text/html": [
       "<pre style=\"white-space:pre;overflow-x:auto;line-height:normal;font-family:Menlo,'DejaVu Sans Mono',consolas,'Courier New',monospace\">✨ You're running DeepEval's latest <span style=\"color: #6a00ff; text-decoration-color: #6a00ff\">Answer Relevancy Metric</span>! <span style=\"color: #374151; text-decoration-color: #374151; font-weight: bold\">(</span><span style=\"color: #374151; text-decoration-color: #374151\">using Azure OpenAI </span><span style=\"color: #374151; text-decoration-color: #374151; font-weight: bold\">(</span><span style=\"color: #374151; text-decoration-color: #374151\">gpt-</span><span style=\"color: #374151; text-decoration-color: #374151; font-weight: bold\">4.1</span><span style=\"color: #374151; text-decoration-color: #374151; font-weight: bold\">)</span><span style=\"color: #374151; text-decoration-color: #374151\">, </span><span style=\"color: #374151; text-decoration-color: #374151\">strict</span><span style=\"color: #374151; text-decoration-color: #374151\">=</span><span style=\"color: #374151; text-decoration-color: #374151; font-style: italic\">False</span><span style=\"color: #374151; text-decoration-color: #374151\">, </span>\n",
       "<span style=\"color: #374151; text-decoration-color: #374151\">async_mode</span><span style=\"color: #374151; text-decoration-color: #374151\">=</span><span style=\"color: #374151; text-decoration-color: #374151; font-style: italic\">True</span><span style=\"color: #374151; text-decoration-color: #374151; font-weight: bold\">)</span><span style=\"color: #374151; text-decoration-color: #374151\">...</span>\n",
       "</pre>\n"
      ],
      "text/plain": [
       "✨ You're running DeepEval's latest \u001b[38;2;106;0;255mAnswer Relevancy Metric\u001b[0m! \u001b[1;38;2;55;65;81m(\u001b[0m\u001b[38;2;55;65;81musing Azure OpenAI \u001b[0m\u001b[1;38;2;55;65;81m(\u001b[0m\u001b[38;2;55;65;81mgpt-\u001b[0m\u001b[1;38;2;55;65;81m4.1\u001b[0m\u001b[1;38;2;55;65;81m)\u001b[0m\u001b[38;2;55;65;81m, \u001b[0m\u001b[38;2;55;65;81mstrict\u001b[0m\u001b[38;2;55;65;81m=\u001b[0m\u001b[3;38;2;55;65;81mFalse\u001b[0m\u001b[38;2;55;65;81m, \u001b[0m\n",
       "\u001b[38;2;55;65;81masync_mode\u001b[0m\u001b[38;2;55;65;81m=\u001b[0m\u001b[3;38;2;55;65;81mTrue\u001b[0m\u001b[1;38;2;55;65;81m)\u001b[0m\u001b[38;2;55;65;81m...\u001b[0m\n"
      ]
     },
     "metadata": {},
     "output_type": "display_data"
    },
    {
     "data": {
      "text/html": [
       "<pre style=\"white-space:pre;overflow-x:auto;line-height:normal;font-family:Menlo,'DejaVu Sans Mono',consolas,'Courier New',monospace\"></pre>\n"
      ],
      "text/plain": []
     },
     "metadata": {},
     "output_type": "display_data"
    },
    {
     "name": "stdout",
     "output_type": "stream",
     "text": [
      "\n",
      "======================================================================\n",
      "\n",
      "Metrics Summary\n",
      "\n",
      "  - ✅ Answer Relevancy (score: 1.0, threshold: 0.5, strict: False, evaluation model: Azure OpenAI (gpt-4.1), reason: The score is 1.00 because the answer was perfectly relevant and directly addressed the question with no irrelevant information. Great job!, error: None)\n",
      "\n",
      "For test case:\n",
      "\n",
      "  - input: Who wrote 'Hamlet'?\n",
      "  - actual output: **'Hamlet'** was written by **William Shakespeare**.\n",
      "  - expected output: None\n",
      "  - context: None\n",
      "  - retrieval context: None\n",
      "\n",
      "======================================================================\n",
      "\n",
      "Metrics Summary\n",
      "\n",
      "  - ✅ Answer Relevancy (score: 1.0, threshold: 0.5, strict: False, evaluation model: Azure OpenAI (gpt-4.1), reason: The score is 1.00 because the answer was perfectly relevant and directly addressed the question with no irrelevant information. Great job!, error: None)\n",
      "\n",
      "For test case:\n",
      "\n",
      "  - input: What is the chemical symbol for water?\n",
      "  - actual output: The chemical symbol for water is **H₂O**.\n",
      "  - expected output: None\n",
      "  - context: None\n",
      "  - retrieval context: None\n",
      "\n",
      "======================================================================\n",
      "\n",
      "Metrics Summary\n",
      "\n",
      "  - ✅ Answer Relevancy (score: 1.0, threshold: 0.5, strict: False, evaluation model: Azure OpenAI (gpt-4.1), reason: The score is 1.00 because the answer was fully relevant and addressed the question directly without any irrelevant information. Great job staying focused and helpful!, error: None)\n",
      "\n",
      "For test case:\n",
      "\n",
      "  - input: What are the best gloves for mining with superior cut rating?\n",
      "  - actual output: To recommend the most suitable ProSafe gloves for mining with superior cut rating, I need to confirm a few details:\n",
      "\n",
      "1. **Process Type**: Are you involved in underground mining, open-pit mining, or processing minerals?\n",
      "2. **Compliance Requirements**: Do you require specific safety certifications (e.g., ANSI/ISEA, EN388) for gloves used in your operations?\n",
      "3. **Additional Protection Needs**: Besides cut resistance, do you need impact protection, chemical resistance, heat resistance, or dexterity?\n",
      "4. **Preferred Sizes**: Please specify glove sizes required (e.g., Small, Medium, Large, XL).\n",
      "\n",
      "Could you please provide this information? This will ensure that my recommendation aligns with your operational needs and regulatory standards.\n",
      "  - expected output: None\n",
      "  - context: None\n",
      "  - retrieval context: None\n",
      "\n",
      "======================================================================\n",
      "\n",
      "Metrics Summary\n",
      "\n",
      "  - ✅ Answer Relevancy (score: 1.0, threshold: 0.5, strict: False, evaluation model: Azure OpenAI (gpt-4.1), reason: The score is 1.00 because the answer was fully relevant and addressed the question directly without any irrelevant information. Great job staying focused and helpful!, error: None)\n",
      "\n",
      "For test case:\n",
      "\n",
      "  - input: What are the best gloves for Welding\n",
      "  - actual output: To recommend the most suitable ProSafe gloves for welding, I need to clarify a few details:\n",
      "\n",
      "1. **Industry Segment**: Are you working in general manufacturing, heavy engineering, automotive, or another sector?\n",
      "2. **Welding Process Type**: Are you performing MIG, TIG, Stick welding, or another process?\n",
      "3. **Compliance Requirements**: Do you need your gloves to meet specific standards (e.g., **EN 12477** for welding protection, **EN 388** for mechanical risks, **EN 407** for thermal risks)?\n",
      "4. **Operational Needs**: Any particular features required—such as high dexterity, cut resistance, heat protection, or extended cuff length?\n",
      "\n",
      "Once you provide these details, I can recommend the most appropriate gloves, including product name, features, compliance labels, and available sizes.\n",
      "\n",
      "**Would you kindly supply more information about your welding application and compliance requirements?** This ensures your recommended solution is safe, compliant, and effective.\n",
      "  - expected output: None\n",
      "  - context: None\n",
      "  - retrieval context: None\n",
      "\n",
      "======================================================================\n",
      "\n",
      "Metrics Summary\n",
      "\n",
      "  - ✅ Answer Relevancy (score: 0.8, threshold: 0.5, strict: False, evaluation model: Azure OpenAI (gpt-4.1), reason: The score is 0.80 because while the main answer addressed the purchase price, some irrelevant statements like thanking the user and offering further assistance did not directly answer the question, preventing a higher score., error: None)\n",
      "\n",
      "For test case:\n",
      "\n",
      "  - input: What's the purchase price of Durashield Cut D gloves?\n",
      "  - actual output: Thank you for your question. To provide you with accurate pricing information for Durashield Cut D gloves, could you please clarify the following:\n",
      "\n",
      "- Your industry (e.g., food processing, automotive, pharmaceuticals, etc.)\n",
      "- Intended use or specific process type\n",
      "- Compliance requirements (e.g., EN388, ANSI, FDA, etc.)\n",
      "- Required glove size(s)\n",
      "- Your location (as pricing may vary by region)\n",
      "\n",
      "This information will help ensure the product recommendation and pricing details meet your operational and regulatory needs. Please provide these details, and I will promptly assist you.\n",
      "  - expected output: None\n",
      "  - context: None\n",
      "  - retrieval context: None\n",
      "\n",
      "======================================================================\n",
      "\n",
      "Overall Metric Pass Rates\n",
      "\n",
      "Answer Relevancy: 100.00% pass rate\n",
      "\n",
      "======================================================================\n",
      "\n"
     ]
    },
    {
     "data": {
      "text/html": [
       "<pre style=\"white-space:pre;overflow-x:auto;line-height:normal;font-family:Menlo,'DejaVu Sans Mono',consolas,'Courier New',monospace\"><span style=\"color: #05f58d; text-decoration-color: #05f58d\">✓</span> Done 🎉! View results on \n",
       "<a href=\"https://app.confident-ai.com/project/cmezc8wwy041vzt5726njpftj/evaluation/test-runs/cmfg2crqo03hc8d18rdqsouf4/compare-test-results\" target=\"_blank\"><span style=\"color: #0000ff; text-decoration-color: #0000ff; text-decoration: underline\">https://app.confident-ai.com/project/cmezc8wwy041vzt5726njpftj/evaluation/test-runs/cmfg2crqo03hc8d18rdqsouf4/compa</span></a>\n",
       "<a href=\"https://app.confident-ai.com/project/cmezc8wwy041vzt5726njpftj/evaluation/test-runs/cmfg2crqo03hc8d18rdqsouf4/compare-test-results\" target=\"_blank\"><span style=\"color: #0000ff; text-decoration-color: #0000ff; text-decoration: underline\">re-test-results</span></a>\n",
       "</pre>\n"
      ],
      "text/plain": [
       "\u001b[38;2;5;245;141m✓\u001b[0m Done 🎉! View results on \n",
       "\u001b]8;id=968225;https://app.confident-ai.com/project/cmezc8wwy041vzt5726njpftj/evaluation/test-runs/cmfg2crqo03hc8d18rdqsouf4/compare-test-results\u001b\\\u001b[4;94mhttps://app.confident-ai.com/project/cmezc8wwy041vzt5726njpftj/evaluation/test-runs/cmfg2crqo03hc8d18rdqsouf4/compa\u001b[0m\u001b]8;;\u001b\\\n",
       "\u001b]8;id=968225;https://app.confident-ai.com/project/cmezc8wwy041vzt5726njpftj/evaluation/test-runs/cmfg2crqo03hc8d18rdqsouf4/compare-test-results\u001b\\\u001b[4;94mre-test-results\u001b[0m\u001b]8;;\u001b\\\n"
      ]
     },
     "metadata": {},
     "output_type": "display_data"
    },
    {
     "data": {
      "text/plain": [
       "EvaluationResult(test_results=[TestResult(name='test_case_1', success=True, metrics_data=[MetricData(name='Answer Relevancy', threshold=0.5, success=True, score=1.0, reason='The score is 1.00 because the answer was perfectly relevant and directly addressed the question with no irrelevant information. Great job!', strict_mode=False, evaluation_model='Azure OpenAI (gpt-4.1)', error=None, evaluation_cost=0.00317, verbose_logs='Statements:\\n[\\n    \"\\'Hamlet\\' was written by William Shakespeare.\"\\n] \\n \\nVerdicts:\\n[\\n    {\\n        \"verdict\": \"yes\",\\n        \"reason\": null\\n    }\\n]')], conversational=False, multimodal=False, input=\"Who wrote 'Hamlet'?\", actual_output=\"**'Hamlet'** was written by **William Shakespeare**.\", expected_output=None, context=None, retrieval_context=None, additional_metadata=None), TestResult(name='test_case_2', success=True, metrics_data=[MetricData(name='Answer Relevancy', threshold=0.5, success=True, score=1.0, reason='The score is 1.00 because the answer was perfectly relevant and directly addressed the question with no irrelevant information. Great job!', strict_mode=False, evaluation_model='Azure OpenAI (gpt-4.1)', error=None, evaluation_cost=0.0031699999999999996, verbose_logs='Statements:\\n[\\n    \"The chemical symbol for water is H₂O.\"\\n] \\n \\nVerdicts:\\n[\\n    {\\n        \"verdict\": \"yes\",\\n        \"reason\": null\\n    }\\n]')], conversational=False, multimodal=False, input='What is the chemical symbol for water?', actual_output='The chemical symbol for water is **H₂O**.', expected_output=None, context=None, retrieval_context=None, additional_metadata=None), TestResult(name='test_case_0', success=True, metrics_data=[MetricData(name='Answer Relevancy', threshold=0.5, success=True, score=1.0, reason='The score is 1.00 because the answer was fully relevant and addressed the question directly without any irrelevant information. Great job staying focused and helpful!', strict_mode=False, evaluation_model='Azure OpenAI (gpt-4.1)', error=None, evaluation_cost=0.005584, verbose_logs='Statements:\\n[\\n    \"To recommend the most suitable ProSafe gloves for mining with superior cut rating, I need to confirm a few details.\",\\n    \"Process Type: Are you involved in underground mining, open-pit mining, or processing minerals?\",\\n    \"Compliance Requirements: Do you require specific safety certifications (e.g., ANSI/ISEA, EN388) for gloves used in your operations?\",\\n    \"Additional Protection Needs: Besides cut resistance, do you need impact protection, chemical resistance, heat resistance, or dexterity?\",\\n    \"Preferred Sizes: Please specify glove sizes required (e.g., Small, Medium, Large, XL).\",\\n    \"Providing this information will ensure that my recommendation aligns with your operational needs and regulatory standards.\"\\n] \\n \\nVerdicts:\\n[\\n    {\\n        \"verdict\": \"idk\",\\n        \"reason\": null\\n    },\\n    {\\n        \"verdict\": \"idk\",\\n        \"reason\": null\\n    },\\n    {\\n        \"verdict\": \"idk\",\\n        \"reason\": null\\n    },\\n    {\\n        \"verdict\": \"idk\",\\n        \"reason\": null\\n    },\\n    {\\n        \"verdict\": \"idk\",\\n        \"reason\": null\\n    },\\n    {\\n        \"verdict\": \"idk\",\\n        \"reason\": null\\n    }\\n]')], conversational=False, multimodal=False, input='What are the best gloves for mining with superior cut rating?', actual_output='To recommend the most suitable ProSafe gloves for mining with superior cut rating, I need to confirm a few details:\\n\\n1. **Process Type**: Are you involved in underground mining, open-pit mining, or processing minerals?\\n2. **Compliance Requirements**: Do you require specific safety certifications (e.g., ANSI/ISEA, EN388) for gloves used in your operations?\\n3. **Additional Protection Needs**: Besides cut resistance, do you need impact protection, chemical resistance, heat resistance, or dexterity?\\n4. **Preferred Sizes**: Please specify glove sizes required (e.g., Small, Medium, Large, XL).\\n\\nCould you please provide this information? This will ensure that my recommendation aligns with your operational needs and regulatory standards.', expected_output=None, context=None, retrieval_context=None, additional_metadata=None), TestResult(name='test_case_4', success=True, metrics_data=[MetricData(name='Answer Relevancy', threshold=0.5, success=True, score=1.0, reason='The score is 1.00 because the answer was fully relevant and addressed the question directly without any irrelevant information. Great job staying focused and helpful!', strict_mode=False, evaluation_model='Azure OpenAI (gpt-4.1)', error=None, evaluation_cost=0.006444, verbose_logs='Statements:\\n[\\n    \"To recommend the most suitable ProSafe gloves for welding, I need to clarify a few details.\",\\n    \"Industry Segment: Are you working in general manufacturing, heavy engineering, automotive, or another sector?\",\\n    \"Welding Process Type: Are you performing MIG, TIG, Stick welding, or another process?\",\\n    \"Compliance Requirements: Do you need your gloves to meet specific standards (e.g., EN 12477 for welding protection, EN 388 for mechanical risks, EN 407 for thermal risks)?\",\\n    \"Operational Needs: Any particular features required—such as high dexterity, cut resistance, heat protection, or extended cuff length?\",\\n    \"Once you provide these details, I can recommend the most appropriate gloves, including product name, features, compliance labels, and available sizes.\",\\n    \"Would you kindly supply more information about your welding application and compliance requirements?\",\\n    \"Supplying more information ensures your recommended solution is safe, compliant, and effective.\"\\n] \\n \\nVerdicts:\\n[\\n    {\\n        \"verdict\": \"idk\",\\n        \"reason\": null\\n    },\\n    {\\n        \"verdict\": \"idk\",\\n        \"reason\": null\\n    },\\n    {\\n        \"verdict\": \"idk\",\\n        \"reason\": null\\n    },\\n    {\\n        \"verdict\": \"idk\",\\n        \"reason\": null\\n    },\\n    {\\n        \"verdict\": \"idk\",\\n        \"reason\": null\\n    },\\n    {\\n        \"verdict\": \"idk\",\\n        \"reason\": null\\n    },\\n    {\\n        \"verdict\": \"idk\",\\n        \"reason\": null\\n    },\\n    {\\n        \"verdict\": \"idk\",\\n        \"reason\": null\\n    }\\n]')], conversational=False, multimodal=False, input='What are the best gloves for Welding', actual_output='To recommend the most suitable ProSafe gloves for welding, I need to clarify a few details:\\n\\n1. **Industry Segment**: Are you working in general manufacturing, heavy engineering, automotive, or another sector?\\n2. **Welding Process Type**: Are you performing MIG, TIG, Stick welding, or another process?\\n3. **Compliance Requirements**: Do you need your gloves to meet specific standards (e.g., **EN 12477** for welding protection, **EN 388** for mechanical risks, **EN 407** for thermal risks)?\\n4. **Operational Needs**: Any particular features required—such as high dexterity, cut resistance, heat protection, or extended cuff length?\\n\\nOnce you provide these details, I can recommend the most appropriate gloves, including product name, features, compliance labels, and available sizes.\\n\\n**Would you kindly supply more information about your welding application and compliance requirements?** This ensures your recommended solution is safe, compliant, and effective.', expected_output=None, context=None, retrieval_context=None, additional_metadata=None), TestResult(name='test_case_3', success=True, metrics_data=[MetricData(name='Answer Relevancy', threshold=0.5, success=True, score=0.8, reason='The score is 0.80 because while the main answer addressed the purchase price, some irrelevant statements like thanking the user and offering further assistance did not directly answer the question, preventing a higher score.', strict_mode=False, evaluation_model='Azure OpenAI (gpt-4.1)', error=None, evaluation_cost=0.0063679999999999995, verbose_logs='Statements:\\n[\\n    \"Thank you for your question.\",\\n    \"To provide accurate pricing information for Durashield Cut D gloves, clarification is needed.\",\\n    \"Please clarify your industry (e.g., food processing, automotive, pharmaceuticals, etc.).\",\\n    \"Please clarify the intended use or specific process type.\",\\n    \"Please clarify compliance requirements (e.g., EN388, ANSI, FDA, etc.).\",\\n    \"Please clarify required glove size(s).\",\\n    \"Please clarify your location, as pricing may vary by region.\",\\n    \"This information will help ensure the product recommendation and pricing details meet your operational and regulatory needs.\",\\n    \"Please provide these details.\",\\n    \"I will promptly assist you.\"\\n] \\n \\nVerdicts:\\n[\\n    {\\n        \"verdict\": \"no\",\\n        \"reason\": \"Thanking the user does not address the question about the purchase price.\"\\n    },\\n    {\\n        \"verdict\": \"yes\",\\n        \"reason\": null\\n    },\\n    {\\n        \"verdict\": \"idk\",\\n        \"reason\": null\\n    },\\n    {\\n        \"verdict\": \"idk\",\\n        \"reason\": null\\n    },\\n    {\\n        \"verdict\": \"idk\",\\n        \"reason\": null\\n    },\\n    {\\n        \"verdict\": \"idk\",\\n        \"reason\": null\\n    },\\n    {\\n        \"verdict\": \"idk\",\\n        \"reason\": null\\n    },\\n    {\\n        \"verdict\": \"yes\",\\n        \"reason\": null\\n    },\\n    {\\n        \"verdict\": \"yes\",\\n        \"reason\": null\\n    },\\n    {\\n        \"verdict\": \"no\",\\n        \"reason\": \"Offering to assist does not provide or directly relate to the purchase price information.\"\\n    }\\n]')], conversational=False, multimodal=False, input=\"What's the purchase price of Durashield Cut D gloves?\", actual_output='Thank you for your question. To provide you with accurate pricing information for Durashield Cut D gloves, could you please clarify the following:\\n\\n- Your industry (e.g., food processing, automotive, pharmaceuticals, etc.)\\n- Intended use or specific process type\\n- Compliance requirements (e.g., EN388, ANSI, FDA, etc.)\\n- Required glove size(s)\\n- Your location (as pricing may vary by region)\\n\\nThis information will help ensure the product recommendation and pricing details meet your operational and regulatory needs. Please provide these details, and I will promptly assist you.', expected_output=None, context=None, retrieval_context=None, additional_metadata=None)], confident_link='https://app.confident-ai.com/project/cmezc8wwy041vzt5726njpftj/evaluation/test-runs/cmfg2crqo03hc8d18rdqsouf4/compare-test-results')"
      ]
     },
     "execution_count": 5,
     "metadata": {},
     "output_type": "execute_result"
    }
   ],
   "source": [
    "from deepeval.metrics import AnswerRelevancyMetric\n",
    "evaluate(test_cases=dataset.test_cases, metrics=[AnswerRelevancyMetric()])"
   ]
  }
 ],
 "metadata": {
  "kernelspec": {
   "display_name": ".venv",
   "language": "python",
   "name": "python3"
  },
  "language_info": {
   "codemirror_mode": {
    "name": "ipython",
    "version": 3
   },
   "file_extension": ".py",
   "mimetype": "text/x-python",
   "name": "python",
   "nbconvert_exporter": "python",
   "pygments_lexer": "ipython3",
   "version": "3.12.1"
  }
 },
 "nbformat": 4,
 "nbformat_minor": 5
}
